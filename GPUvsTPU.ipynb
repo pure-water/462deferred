{
  "nbformat": 4,
  "nbformat_minor": 0,
  "metadata": {
    "colab": {
      "name": "GPUvsTPU.ipynb",
      "provenance": [],
      "gpuType": "V28",
      "include_colab_link": true
    },
    "kernelspec": {
      "name": "python3",
      "display_name": "Python 3"
    },
    "accelerator": "TPU"
  },
  "cells": [
    {
      "cell_type": "markdown",
      "metadata": {
        "id": "view-in-github",
        "colab_type": "text"
      },
      "source": [
        "<a href=\"https://colab.research.google.com/github/pure-water/462deferred/blob/master/GPUvsTPU.ipynb\" target=\"_parent\"><img src=\"https://colab.research.google.com/assets/colab-badge.svg\" alt=\"Open In Colab\"/></a>"
      ]
    },
    {
      "metadata": {
        "id": "QueVjeESsyKe"
      },
      "cell_type": "markdown",
      "source": [
        "# Why TPUs ?"
      ]
    },
    {
      "metadata": {
        "id": "5moeHHv4shGw"
      },
      "cell_type": "markdown",
      "source": [
        "TPUs are tensor processing units developed by Google to  accelerate operations on a Tensorflow Graph. Each TPU packs up to 180 teraflops of floating-point performance and 64 GB of high-bandwidth memory onto a single board. Here is a comparions between TPUs and Nvidia GPUs. The y axis represents # images per seconds and the x axis is different models.\n",
        "\n",
        "<img src=\"https://cdn-images-1.medium.com/max/800/1*tVHGjJHJrhKaKECT3Z4CIw.png\" alt=\"Drawing\" style=\"width: 150px;\"/>"
      ]
    },
    {
      "metadata": {
        "id": "_SXoMcRs8aRs"
      },
      "cell_type": "markdown",
      "source": [
        "# Experiement\n",
        "\n",
        "TPUs were only available on Google cloud but now they are available for free in Colab. We will be comparing TPU vs GPU here on colab using mnist dataset. We will compare the time of each step and epoch against different batch sizes."
      ]
    },
    {
      "metadata": {
        "id": "4ECTupP8warH"
      },
      "cell_type": "markdown",
      "source": [
        "# Downoad MNIST"
      ]
    },
    {
      "metadata": {
        "id": "oX7DOjhUlCLb"
      },
      "cell_type": "code",
      "source": [
        "import tensorflow as tf\n",
        "import os\n",
        "import numpy as np\n",
        "from tensorflow.keras.utils import to_categorical\n",
        "\n",
        "def get_data():\n",
        "\n",
        "  #Load mnist data set\n",
        "  (x_train, y_train), (x_test, y_test) = tf.keras.datasets.mnist.load_data()\n",
        "\n",
        "  x_train = x_train.astype('float32') / 255\n",
        "  x_test = x_test.astype('float32') / 255\n",
        "\n",
        "  x_train = np.expand_dims(x_train, 3)\n",
        "  x_test = np.expand_dims(x_test, 3)\n",
        "\n",
        "  y_train = to_categorical(y_train)\n",
        "  y_test  = to_categorical(y_test)\n",
        "\n",
        "  return x_train, y_train, x_test, y_test"
      ],
      "execution_count": null,
      "outputs": []
    },
    {
      "metadata": {
        "id": "AtEJD_s1wdty"
      },
      "cell_type": "markdown",
      "source": [
        "# Basic CNN"
      ]
    },
    {
      "metadata": {
        "id": "IaZZ2OwmwhKQ"
      },
      "cell_type": "markdown",
      "source": [
        "Note that since we need to run the code on TPU we need to do more work. We need to specify the address of the TPU and tell tensorflow to run the model on the TPU cluster"
      ]
    },
    {
      "metadata": {
        "id": "cUYn3VomnQDL"
      },
      "cell_type": "code",
      "source": [
        "from tensorflow.contrib.tpu.python.tpu import keras_support\n",
        "\n",
        "def get_model(tpu = False):\n",
        "  model = tf.keras.Sequential()\n",
        "\n",
        "  #add layers to the model\n",
        "  model.add(tf.keras.layers.Conv2D(filters=64, kernel_size=2, padding='same', activation='relu', input_shape=(28,28,1)))\n",
        "  model.add(tf.keras.layers.MaxPooling2D(pool_size=2))\n",
        "  model.add(tf.keras.layers.Dropout(0.3))\n",
        "\n",
        "  model.add(tf.keras.layers.Conv2D(filters=32, kernel_size=2, padding='same', activation='relu'))\n",
        "  model.add(tf.keras.layers.MaxPooling2D(pool_size=2))\n",
        "  model.add(tf.keras.layers.Dropout(0.3))\n",
        "\n",
        "  model.add(tf.keras.layers.Flatten())\n",
        "  model.add(tf.keras.layers.Dense(256, activation='relu'))\n",
        "  model.add(tf.keras.layers.Dropout(0.5))\n",
        "  model.add(tf.keras.layers.Dense(10, activation='softmax'))\n",
        "\n",
        "  #compile the model\n",
        "  model.compile(loss='categorical_crossentropy',\n",
        "               optimizer='adam',\n",
        "               metrics=['accuracy'])\n",
        "\n",
        "  #flag to run on tpu\n",
        "  if tpu:\n",
        "    tpu_grpc_url = \"grpc://\"+os.environ[\"COLAB_TPU_ADDR\"]\n",
        "\n",
        "    #connect the TPU cluster using the address\n",
        "    tpu_cluster_resolver = tf.contrib.cluster_resolver.TPUClusterResolver(tpu_grpc_url)\n",
        "\n",
        "    #run the model on different clusters\n",
        "    strategy = keras_support.TPUDistributionStrategy(tpu_cluster_resolver)\n",
        "\n",
        "    #convert the model to run on tpu\n",
        "    model = tf.contrib.tpu.keras_to_tpu_model(model, strategy=strategy)\n",
        "  return model"
      ],
      "execution_count": null,
      "outputs": []
    },
    {
      "metadata": {
        "id": "cSoBDg4PwylQ"
      },
      "cell_type": "markdown",
      "source": [
        "#GPU vs TPU\n"
      ]
    },
    {
      "metadata": {
        "id": "yluf1xqjsILa"
      },
      "cell_type": "code",
      "source": [
        "x_train, y_train, x_test, y_test = get_data()"
      ],
      "execution_count": null,
      "outputs": []
    },
    {
      "metadata": {
        "id": "Wn9zXSBUw8m1"
      },
      "cell_type": "markdown",
      "source": [
        "Each time you want to run the model on TPU make sure to set the tpu flag and change the enviornment runtime via  Edit> Notebook Setting > Hardware Accelerator > TPU and then click save."
      ]
    },
    {
      "metadata": {
        "id": "4vAM7pBPxVbm"
      },
      "cell_type": "code",
      "source": [
        "#set tpu = True if you want to run the model on TPU\n",
        "model = get_model(tpu = False)"
      ],
      "execution_count": null,
      "outputs": []
    },
    {
      "metadata": {
        "id": "_m67tWDhnm7f",
        "colab": {
          "base_uri": "https://localhost:8080/",
          "height": 139
        },
        "outputId": "59645203-25f4-4e4f-87a2-72da5fa1cf48"
      },
      "cell_type": "code",
      "source": [
        "model.fit(x_train,\n",
        "         y_train,\n",
        "         batch_size=1024,\n",
        "         epochs=10,\n",
        "         validation_data=(x_test, y_test))"
      ],
      "execution_count": null,
      "outputs": [
        {
          "output_type": "stream",
          "text": [
            "Train on 60000 samples, validate on 10000 samples\n",
            "Epoch 1/3\n",
            "60000/60000 [==============================] - 2s 38us/step - loss: 0.1639 - acc: 0.9513 - val_loss: 0.0677 - val_acc: 0.9752\n",
            "Epoch 2/3\n",
            "60000/60000 [==============================] - 2s 35us/step - loss: 0.1345 - acc: 0.9573 - val_loss: 0.0552 - val_acc: 0.9808\n",
            "Epoch 3/3\n",
            "60000/60000 [==============================] - 2s 40us/step - loss: 0.1189 - acc: 0.9619 - val_loss: 0.0443 - val_acc: 0.9848\n"
          ],
          "name": "stdout"
        }
      ]
    },
    {
      "metadata": {
        "id": "QGof6K46zXfq"
      },
      "cell_type": "markdown",
      "source": [
        "# Benchmarks\n",
        "\n",
        "Note that TPU setup takes some time when compiling the model and distributing the data in the clusters, so the first epoch will take alonger time. I only reported the time for the later epochs. I calculated the average time accross different epochs."
      ]
    },
    {
      "metadata": {
        "id": "4cbKs72g00sQ"
      },
      "cell_type": "markdown",
      "source": [
        "### Epoch Time ($s$)"
      ]
    },
    {
      "metadata": {
        "id": "QNh64VMDz1Ks"
      },
      "cell_type": "markdown",
      "source": [
        "$$\\left[\\begin{array}{c|c|c}  \n",
        " \\textbf{Batch Size} & \\textbf{GPU} & \\textbf{TPU} \\\\\n",
        " 256 & 6s & 6s\\\\  \n",
        " 512 & 5s & 3s\\\\\n",
        " 1024 & 4s & 2s\\\\\n",
        "\\end{array}\\right]$$"
      ]
    },
    {
      "metadata": {
        "id": "Q8eMm1GD1Mu5"
      },
      "cell_type": "markdown",
      "source": [
        "### Step Time ($\\mu s$)"
      ]
    },
    {
      "metadata": {
        "id": "q1hElmjr05Ah"
      },
      "cell_type": "markdown",
      "source": [
        "$$\\left[\\begin{array}{c|c|c}  \n",
        " \\textbf{Batch Size} & \\textbf{GPU} & \\textbf{TPU} \\\\\n",
        " 256 & 94 \\mu s & 97 \\mu s\\\\  \n",
        " 512 & 82 \\mu  s& 58 \\mu s \\\\\n",
        " 1024 & 79 \\mu s & 37 \\mu s\\\\\n",
        "\\end{array}\\right]$$"
      ]
    },
    {
      "metadata": {
        "id": "J6eOKfyW38rN"
      },
      "cell_type": "markdown",
      "source": [
        "# References\n",
        "\n",
        "\n",
        "\n",
        "*   https://qiita.com/koshian2/items/25a6341c035e8a260a01\n",
        "*   https://medium.com/tensorflow/hello-deep-learning-fashion-mnist-with-keras-50fcff8cd74a\n",
        "*   https://blog.riseml.com/benchmarking-googles-new-tpuv2-121c03b71384\n",
        "*   https://cloudplatform.googleblog.com/2018/02/Cloud-TPU-machine-learning-accelerators-now-available-in-beta.html\n",
        "\n"
      ]
    },
    {
      "cell_type": "code",
      "source": [],
      "metadata": {
        "id": "fnHSjEkSJTVm"
      },
      "execution_count": null,
      "outputs": []
    },
    {
      "cell_type": "code",
      "source": [
        "import numpy as np\n",
        "\n",
        "# Given PV matrix\n",
        "PV = np.array([\n",
        "    [0.839099, 0.000000, -0.000604, -0.000091],\n",
        "    [-0.000238, 0.771070, -0.330967, -0.126752],\n",
        "    [-0.000688, -0.410530, -0.956432, 1.249704],\n",
        "    [-0.000661, -0.394431, -0.918925, 1.592853]\n",
        "])\n",
        "\n",
        "# Compute the inverse of PV\n",
        "PV_inv = np.linalg.inv(PV)\n",
        "PV_inv"
      ],
      "metadata": {
        "colab": {
          "base_uri": "https://localhost:8080/"
        },
        "id": "78tgyP-TJT4W",
        "outputId": "757994d4-f9a2-478c-c74f-7661e169241a"
      },
      "execution_count": 1,
      "outputs": [
        {
          "output_type": "execute_result",
          "data": {
            "text/plain": [
              "array([[ 1.19175387e+00, -3.38361268e-04, -2.74197102e-03,\n",
              "         2.19242691e-03],\n",
              "       [-1.38309426e-07,  1.09513314e+00, -1.87935053e+00,\n",
              "         1.56162696e+00],\n",
              "       [-8.57295370e-04, -4.70063976e-01, -3.44012420e+00,\n",
              "         2.66161117e+00],\n",
              "       [-5.98878021e-08,  4.37817601e-07, -2.45000138e+00,\n",
              "         2.55000090e+00]])"
            ]
          },
          "metadata": {},
          "execution_count": 1
        }
      ]
    },
    {
      "cell_type": "code",
      "source": [
        "import numpy as np\n",
        "\n",
        "def compute_QEP(PV, Q):\n",
        "    \"\"\"Computes the transformed QEP matrix from PV and Q.\"\"\"\n",
        "    PV_inv = np.linalg.inv(PV)  # Compute inverse of PV\n",
        "    QEP = PV_inv.T @ Q @ PV_inv  # Compute QEP\n",
        "    return QEP\n",
        "\n",
        "# Given PV matrix\n",
        "PV = np.array([\n",
        "    [0.839099, 0.000000, -0.000604, -0.000091],\n",
        "    [-0.000238, 0.771070, -0.330967, -0.126752],\n",
        "    [-0.000688, -0.410530, -0.956432, 1.249704],\n",
        "    [-0.000661, -0.394431, -0.918925, 1.592853]\n",
        "])\n",
        "\n",
        "# Example Ellipsoid Quadric Matrix (Adjust a, b, c as needed)\n",
        "Q = np.array([\n",
        "    [24.999998, 0.000000, 0.000000, 0.000000],\n",
        "    [0.000000, 22.675737, 0.000000, 0.000000],\n",
        "    [0.000000, 0.000000, 99.999992, 0.000000],\n",
        "    [0.000000, 0.000000, 0.000000, -1.000000]\n",
        "])\n",
        "\n",
        "# Compute QEP\n",
        "QEP = compute_QEP(PV, Q)\n",
        "\n",
        "# Print result\n",
        "print(\"QEP Matrix:\")\n",
        "print(QEP)\n"
      ],
      "metadata": {
        "colab": {
          "base_uri": "https://localhost:8080/"
        },
        "id": "J1LLVNPBL3i8",
        "outputId": "980c33b7-25c5-4ecd-ff50-b0d59e34093c"
      },
      "execution_count": 4,
      "outputs": [
        {
          "output_type": "stream",
          "name": "stdout",
          "text": [
            "QEP Matrix:\n",
            "[[ 3.55070029e+01  3.02138462e-02  2.13232121e-01 -1.62862594e-01]\n",
            " [ 3.02138462e-02  4.92914030e+01  1.15038037e+02 -8.63329567e+01]\n",
            " [ 2.13232121e-01  1.15038037e+02  1.25753280e+03 -9.75929632e+02]\n",
            " [-1.62862594e-01 -8.63329567e+01 -9.75929632e+02  7.57213801e+02]]\n"
          ]
        }
      ]
    },
    {
      "cell_type": "code",
      "source": [
        "import numpy as np\n",
        "\n",
        "# Input matrices\n",
        "PV = np.array([\n",
        "    [0.839099, 0.000000, -0.000604, -0.000091],\n",
        "    [-0.000238, 0.771070, -0.330967, -0.126752],\n",
        "    [-0.000688, -0.410530, -0.956432, 1.249704],\n",
        "    [-0.000661, -0.394431, -0.918925, 1.592853]\n",
        "])\n",
        "\n",
        "\n",
        "Q_clip_provided = np.array([\n",
        "[[18.115772, 0.000000, -0.004019, 0.004183],\n",
        " [0.000000, 18.115774, -5.625706, 5.855330],\n",
        " [-0.004019, -5.625706, 189.997482, -147.975800],\n",
        " [0.004183, 5.855329, -147.975800, 114.962357]]\n",
        "\n",
        "])\n",
        "\n",
        "# Ellipsoid parameters (using example values)\n",
        "a, b, c = 0.28,0.28,0.28\n",
        "Q_world = np.diag([1/(a**2), 1/(b**2), 1/(c**2), 0.0])\n",
        "print(\"Q_world\",Q_world)\n",
        "\n",
        "# Compute Q_clip\n",
        "try:\n",
        "    PV_inv = np.linalg.inv(PV)\n",
        "    Q_clip_computed = PV_inv.T @ Q_world @ PV_inv\n",
        "\n",
        "    print(\"Computed Q_clip:\\n\", Q_clip_computed)\n",
        "    print(\"\\nProvided Q_clip:\\n\", Q_clip_provided)\n",
        "\n",
        "    # Calculate absolute differences\n",
        "    diff = np.abs(Q_clip_computed - Q_clip_provided)\n",
        "    print(\"\\nAbsolute Differences:\\n\", diff)\n",
        "\n",
        "    # Check if differences are significant\n",
        "    if np.allclose(Q_clip_computed, Q_clip_provided, atol=1e-3):\n",
        "        print(\"\\nResult: Q_clip is CORRECT (within tolerance)\")\n",
        "    else:\n",
        "        print(\"\\nResult: Q_clip is INCORRECT\")\n",
        "\n",
        "except np.linalg.LinAlgError:\n",
        "    print(\"Matrix inversion failed (PV is singular)\")"
      ],
      "metadata": {
        "colab": {
          "base_uri": "https://localhost:8080/"
        },
        "id": "bDVlLgrR0HX7",
        "outputId": "214f7402-f1fb-44e4-8a8d-99fb6f8c27d5"
      },
      "execution_count": 5,
      "outputs": [
        {
          "output_type": "stream",
          "name": "stdout",
          "text": [
            "Q_world [[12.75510204  0.          0.          0.        ]\n",
            " [ 0.         12.75510204  0.          0.        ]\n",
            " [ 0.          0.         12.75510204  0.        ]\n",
            " [ 0.          0.          0.          0.        ]]\n",
            "Computed Q_clip:\n",
            " [[ 1.81157912e+01 -5.24423613e-06 -4.05984821e-03  4.21977472e-03]\n",
            " [-5.24423613e-06  1.81157762e+01 -5.62576101e+00  5.85537203e+00]\n",
            " [-4.05984821e-03 -5.62576101e+00  1.96000260e+02 -1.54223514e+02]\n",
            " [ 4.21977472e-03  5.85537203e+00 -1.54223514e+02  1.21465021e+02]]\n",
            "\n",
            "Provided Q_clip:\n",
            " [[[ 1.81157720e+01  0.00000000e+00 -4.01900000e-03  4.18300000e-03]\n",
            "  [ 0.00000000e+00  1.81157740e+01 -5.62570600e+00  5.85533000e+00]\n",
            "  [-4.01900000e-03 -5.62570600e+00  1.89997482e+02 -1.47975800e+02]\n",
            "  [ 4.18300000e-03  5.85532900e+00 -1.47975800e+02  1.14962357e+02]]]\n",
            "\n",
            "Absolute Differences:\n",
            " [[[1.91509094e-05 5.24423613e-06 4.08482091e-05 3.67747209e-05]\n",
            "  [5.24423613e-06 2.17991654e-06 5.50124803e-05 4.20288189e-05]\n",
            "  [4.08482091e-05 5.50124803e-05 6.00277842e+00 6.24771358e+00]\n",
            "  [3.67747209e-05 4.30288189e-05 6.24771358e+00 6.50266351e+00]]]\n",
            "\n",
            "Result: Q_clip is INCORRECT\n"
          ]
        }
      ]
    },
    {
      "cell_type": "code",
      "source": [
        "import numpy as np\n",
        "import matplotlib.pyplot as plt\n",
        "from scipy.linalg import eigh\n",
        "\n",
        "def create_3d_gaussian_ellipsoid(center, axes):\n",
        "    \"\"\"\n",
        "    Create a covariance matrix for a 3D Gaussian ellipsoid.\n",
        "\n",
        "    :param center: Center of the ellipsoid [x, y, z]\n",
        "    :param axes: Axes lengths [a, b, c]\n",
        "    :return: Covariance matrix\n",
        "    \"\"\"\n",
        "    sigma = np.diag(np.square(axes))\n",
        "    return sigma\n",
        "\n",
        "def project_gaussian(PV, center_3d, sigma_3d):\n",
        "    \"\"\"\n",
        "    Project a 3D Gaussian through a perspective matrix.\n",
        "\n",
        "    :param PV: 4x4 projection + view matrix\n",
        "    :param center_3d: 3D center of the Gaussian\n",
        "    :param sigma_3d: 3D covariance matrix of the Gaussian\n",
        "    :return: 2D center, 2x2 covariance matrix in 2D\n",
        "    \"\"\"\n",
        "    # Project center\n",
        "    center_4d = np.append(center_3d, 1)\n",
        "    center_clip = PV @ center_4d\n",
        "    w = center_clip[3]\n",
        "    center_2d = center_clip[:2] / w\n",
        "\n",
        "    # Project covariance (simplified, real projection would involve more steps)\n",
        "    sigma_v = sigma_3d  # Assuming no rotation in view matrix for simplicity\n",
        "    sigma_clip = PV[:3, :3] @ sigma_v @ PV[:3, :3].T\n",
        "    sigma_2d = sigma_clip[:2, :2] / (w**2)  # Approximate perspective effect\n",
        "\n",
        "    return center_2d, sigma_2d\n",
        "\n",
        "def ellipse_params_from_covariance(sigma_2d):\n",
        "    \"\"\"\n",
        "    Get ellipse parameters from 2D covariance matrix.\n",
        "\n",
        "    :param sigma_2d: 2D covariance matrix\n",
        "    :return: major axis length, minor axis length, angle of rotation\n",
        "    \"\"\"\n",
        "    eigenvalues, eigenvectors = eigh(sigma_2d)\n",
        "    major = np.sqrt(eigenvalues.max())\n",
        "    minor = np.sqrt(eigenvalues.min())\n",
        "    angle = np.degrees(np.arctan2(eigenvectors[1, eigenvalues.argmax()], eigenvectors[0, eigenvalues.argmax()]))\n",
        "    return major, minor, angle\n",
        "\n",
        "def plot_ellipse(center, major, minor, angle):\n",
        "    \"\"\"\n",
        "    Plot an ellipse given its parameters.\n",
        "\n",
        "    :param center: Center of the ellipse [x, y]\n",
        "    :param major: Length of major axis\n",
        "    :param minor: Length of minor axis\n",
        "    :param angle: Angle of rotation in degrees\n",
        "    \"\"\"\n",
        "    theta = np.linspace(0, 2*np.pi, 100)\n",
        "    ellipse = np.array([major*np.cos(theta), minor*np.sin(theta)])\n",
        "    R = np.array([[np.cos(np.radians(angle)), -np.sin(np.radians(angle))],\n",
        "                  [np.sin(np.radians(angle)), np.cos(np.radians(angle))]])\n",
        "    ellipse_rotated = np.dot(R, ellipse)\n",
        "    plt.plot(center[0] + ellipse_rotated[0], center[1] + ellipse_rotated[1])\n",
        "    plt.axis('equal')\n",
        "    plt.grid(True)\n",
        "\n",
        "if __name__ == \"__main__\":\n",
        "    # Define 3D ellipsoid parameters\n",
        "    center_3d = np.array([0.0, 0.1, -0.15])  # New center in 3D space\n",
        "    axes = np.array([0.2, 0.21, 0.1])  # Axes lengths a, b, c\n",
        "\n",
        "    # Provided PV matrix\n",
        "    PV = np.array([\n",
        "        [0.839099, 0.000000, -0.000604, -0.000091],\n",
        "        [-0.000238, 0.771070, -0.330967, -0.126752],\n",
        "        [-0.000688, -0.410530, -0.956432, 1.249704],\n",
        "        [-0.000661, -0.394431, -0.918925, 1.592853]\n",
        "    ])\n",
        "\n",
        "    sigma_3d = create_3d_gaussian_ellipsoid(center_3d, axes)\n",
        "\n",
        "    center_2d, sigma_2d = project_gaussian(PV, center_3d, sigma_3d)\n",
        "    major, minor, angle = ellipse_params_from_covariance(sigma_2d)\n",
        "\n",
        "    print(f\"Projected Ellipse Center: {center_2d}\")\n",
        "    print(f\"Major axis: {major}, Minor axis: {minor}, Angle: {angle} degrees\")\n",
        "\n",
        "    # Plotting\n",
        "    plt.figure(figsize=(10, 10))\n",
        "    plot_ellipse(center_2d, major, minor, angle)\n",
        "    plt.title(\"Projected 3D Gaussian Ellipsoid to 2D Ellipse\")\n",
        "    plt.show()"
      ],
      "metadata": {
        "colab": {
          "base_uri": "https://localhost:8080/",
          "height": 888
        },
        "id": "uYyDmL_s7MiY",
        "outputId": "c5d45d81-64fd-447e-fc8d-8bd2c9feed58"
      },
      "execution_count": 3,
      "outputs": [
        {
          "output_type": "stream",
          "name": "stdout",
          "text": [
            "Projected Ellipse Center: [-2.36511645e-07  2.95639556e-08]\n",
            "Major axis: 0.09922842322348467, Minor axis: 0.09772210684559852, Angle: 179.59559522534238 degrees\n"
          ]
        },
        {
          "output_type": "display_data",
          "data": {
            "text/plain": [
              "<Figure size 1000x1000 with 1 Axes>"
            ],
            "image/png": "[encoded data removed]"
          },
          "metadata": {}
        }
      ]
    }
  ]
}